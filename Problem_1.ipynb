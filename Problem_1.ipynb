{
  "nbformat": 4,
  "nbformat_minor": 0,
  "metadata": {
    "colab": {
      "provenance": [],
      "gpuType": "T4"
    },
    "kernelspec": {
      "name": "python3",
      "display_name": "Python 3"
    },
    "language_info": {
      "name": "python"
    },
    "accelerator": "GPU"
  },
  "cells": [
    {
      "cell_type": "code",
      "execution_count": 1,
      "metadata": {
        "colab": {
          "base_uri": "https://localhost:8080/"
        },
        "id": "fz0MiKmxSS9t",
        "outputId": "10e4993d-1f15-4d57-879a-59aef0c80db4"
      },
      "outputs": [
        {
          "output_type": "stream",
          "name": "stdout",
          "text": [
            "Downloading https://www.cs.toronto.edu/~kriz/cifar-10-python.tar.gz to ./cifar-10-python.tar.gz\n"
          ]
        },
        {
          "output_type": "stream",
          "name": "stderr",
          "text": [
            "100%|██████████| 170498071/170498071 [00:04<00:00, 35151624.21it/s]\n"
          ]
        },
        {
          "output_type": "stream",
          "name": "stdout",
          "text": [
            "Extracting ./cifar-10-python.tar.gz to ./\n",
            "Files already downloaded and verified\n"
          ]
        }
      ],
      "source": [
        "import numpy as np\n",
        "import matplotlib.pyplot as plt\n",
        "import torch\n",
        "import torch.nn as nn\n",
        "import torch.nn.functional as F\n",
        "import torch.optim as optim\n",
        "import torchvision as tv\n",
        "\n",
        "transform_train = tv.transforms.Compose([\n",
        "    tv.transforms.RandomCrop(32, padding=4),\n",
        "    tv.transforms.RandomHorizontalFlip(),\n",
        "    tv.transforms.ToTensor(),\n",
        "    tv.transforms.Normalize((0.4914, 0.4822, 0.4465), (0.2023, 0.1994, 0.2010)),\n",
        "])\n",
        "\n",
        "transform_test = tv.transforms.Compose([\n",
        "    tv.transforms.ToTensor(),\n",
        "    tv.transforms.Normalize((0.4914, 0.4822, 0.4465), (0.2023, 0.1994, 0.2010)),\n",
        "])\n",
        "\n",
        "train_dataset = tv.datasets.CIFAR10(root='./', train=True, download=True, transform=transform_train)\n",
        "test_dataset = tv.datasets.CIFAR10(root='./', train=False, download=True, transform=transform_test)\n",
        "\n",
        "train_loader = torch.utils.data.DataLoader(train_dataset, batch_size=100, shuffle=True)\n",
        "test_loader = torch.utils.data.DataLoader(test_dataset, batch_size=100, shuffle=False)"
      ]
    },
    {
      "cell_type": "code",
      "source": [
        "MODELNAME = \"cifar10_vgg16.model\"\n",
        "EPOCHS = 50\n",
        "DEVICE = \"cuda\" if torch.cuda.is_available() else \"cpu\""
      ],
      "metadata": {
        "id": "gsYySe_aSesu"
      },
      "execution_count": 4,
      "outputs": []
    },
    {
      "cell_type": "code",
      "source": [
        "class VGG16(nn.Module):\n",
        "    def __init__(self):\n",
        "        super(VGG16, self).__init__()\n",
        "        self.features = nn.Sequential(\n",
        "            nn.Conv2d(3, 64, kernel_size=3, padding=1),\n",
        "            nn.ReLU(inplace=True),\n",
        "            nn.Conv2d(64, 64, kernel_size=3, padding=1),\n",
        "            nn.ReLU(inplace=True),\n",
        "            nn.MaxPool2d(kernel_size=2, stride=2),\n",
        "\n",
        "            nn.Conv2d(64, 128, kernel_size=3, padding=1),\n",
        "            nn.ReLU(inplace=True),\n",
        "            nn.Conv2d(128, 128, kernel_size=3, padding=1),\n",
        "            nn.ReLU(inplace=True),\n",
        "            nn.MaxPool2d(kernel_size=2, stride=2),\n",
        "\n",
        "            nn.Conv2d(128, 256, kernel_size=3, padding=1),\n",
        "            nn.ReLU(inplace=True),\n",
        "            nn.Conv2d(256, 256, kernel_size=3, padding=1),\n",
        "            nn.ReLU(inplace=True),\n",
        "            nn.Conv2d(256, 256, kernel_size=3, padding=1),\n",
        "            nn.ReLU(inplace=True),\n",
        "            nn.MaxPool2d(kernel_size=2, stride=2),\n",
        "\n",
        "            nn.Conv2d(256, 512, kernel_size=3, padding=1),\n",
        "            nn.ReLU(inplace=True),\n",
        "            nn.Conv2d(512, 512, kernel_size=3, padding=1),\n",
        "            nn.ReLU(inplace=True),\n",
        "            nn.Conv2d(512, 512, kernel_size=3, padding=1),\n",
        "            nn.ReLU(inplace=True),\n",
        "            nn.MaxPool2d(kernel_size=2, stride=2),\n",
        "\n",
        "            nn.Conv2d(512, 512, kernel_size=3, padding=1),\n",
        "            nn.ReLU(inplace=True),\n",
        "            nn.Conv2d(512, 512, kernel_size=3, padding=1),\n",
        "            nn.ReLU(inplace=True),\n",
        "            nn.Conv2d(512, 512, kernel_size=3, padding=1),\n",
        "            nn.ReLU(inplace=True),\n",
        "            nn.MaxPool2d(kernel_size=2, stride=2),\n",
        "        )\n",
        "        self.classifier = nn.Sequential(\n",
        "            nn.Linear(512 * 1 * 1, 4096),\n",
        "            nn.ReLU(inplace=True),\n",
        "            nn.Dropout(),\n",
        "            nn.Linear(4096, 4096),\n",
        "            nn.ReLU(inplace=True),\n",
        "            nn.Dropout(),\n",
        "            nn.Linear(4096, 10),\n",
        "        )\n",
        "\n",
        "    def forward(self, x):\n",
        "        x = self.features(x)\n",
        "        x = x.view(x.size(0), -1)\n",
        "        x = self.classifier(x)\n",
        "        return x\n",
        "\n",
        "model = VGG16().to(DEVICE)"
      ],
      "metadata": {
        "id": "mZhSTpKGSoYA"
      },
      "execution_count": 12,
      "outputs": []
    },
    {
      "cell_type": "code",
      "source": [
        "def train():\n",
        "    optimizer = optim.Adam(model.parameters(), lr=0.0001)\n",
        "    scheduler = torch.optim.lr_scheduler.StepLR(optimizer, step_size=20, gamma=0.1)\n",
        "    criterion = nn.CrossEntropyLoss()\n",
        "\n",
        "    for epoch in range(EPOCHS):\n",
        "        model.train()\n",
        "        running_loss = 0.0\n",
        "        for images, labels in train_loader:\n",
        "            images = images.to(DEVICE)\n",
        "            labels = labels.to(DEVICE)\n",
        "\n",
        "            optimizer.zero_grad()\n",
        "            outputs = model(images)\n",
        "            loss = criterion(outputs, labels)\n",
        "            loss.backward()\n",
        "            optimizer.step()\n",
        "\n",
        "            running_loss += loss.item()\n",
        "\n",
        "        scheduler.step()\n",
        "        print(f\"Epoch {epoch+1}/{EPOCHS}, Loss: {running_loss}\")\n",
        "\n",
        "    torch.save(model.state_dict(), MODELNAME)"
      ],
      "metadata": {
        "id": "KBCA8jTaSqEg"
      },
      "execution_count": 13,
      "outputs": []
    },
    {
      "cell_type": "code",
      "source": [
        "def test():\n",
        "    model.load_state_dict(torch.load(MODELNAME))\n",
        "    model.eval()\n",
        "    correct = 0\n",
        "    total = len(test_loader.dataset)\n",
        "\n",
        "    with torch.no_grad():\n",
        "        for images, labels in test_loader:\n",
        "            images = images.to(DEVICE)\n",
        "            labels = labels.to(DEVICE)\n",
        "            outputs = model(images)\n",
        "            _, predicted = torch.max(outputs.data, 1)\n",
        "            correct += (predicted == labels).sum().item()\n",
        "\n",
        "    print(f'Correct: {correct}')\n",
        "    print(f'Total: {total}')\n",
        "    print(f\"Accuracy: {100 * correct / total}%\")"
      ],
      "metadata": {
        "id": "EC7StjqfSvvF"
      },
      "execution_count": 14,
      "outputs": []
    },
    {
      "cell_type": "code",
      "source": [
        "train()"
      ],
      "metadata": {
        "colab": {
          "base_uri": "https://localhost:8080/"
        },
        "id": "a6Gxyh_tSzCE",
        "outputId": "957315c0-3c42-4acb-b630-d10243c088df"
      },
      "execution_count": 15,
      "outputs": [
        {
          "output_type": "stream",
          "name": "stdout",
          "text": [
            "Epoch 1/50, Loss: 1001.2247166633606\n",
            "Epoch 2/50, Loss: 858.4091100692749\n",
            "Epoch 3/50, Loss: 731.9600386619568\n",
            "Epoch 4/50, Loss: 640.6352415084839\n",
            "Epoch 5/50, Loss: 567.7969959378242\n",
            "Epoch 6/50, Loss: 501.6279647350311\n",
            "Epoch 7/50, Loss: 446.4034964442253\n",
            "Epoch 8/50, Loss: 413.7774193882942\n",
            "Epoch 9/50, Loss: 381.73151218891144\n",
            "Epoch 10/50, Loss: 351.15896144509315\n",
            "Epoch 11/50, Loss: 327.7224320471287\n",
            "Epoch 12/50, Loss: 306.2018339931965\n",
            "Epoch 13/50, Loss: 286.26026752591133\n",
            "Epoch 14/50, Loss: 270.93661999702454\n",
            "Epoch 15/50, Loss: 253.32150445878506\n",
            "Epoch 16/50, Loss: 241.56750513613224\n",
            "Epoch 17/50, Loss: 227.0031936466694\n",
            "Epoch 18/50, Loss: 215.1582535803318\n",
            "Epoch 19/50, Loss: 203.3438258767128\n",
            "Epoch 20/50, Loss: 192.63084088265896\n",
            "Epoch 21/50, Loss: 143.47254614531994\n",
            "Epoch 22/50, Loss: 134.13038853555918\n",
            "Epoch 23/50, Loss: 128.9290680065751\n",
            "Epoch 24/50, Loss: 125.47544783353806\n",
            "Epoch 25/50, Loss: 122.49192802608013\n",
            "Epoch 26/50, Loss: 117.81385842710733\n",
            "Epoch 27/50, Loss: 117.59349628537893\n",
            "Epoch 28/50, Loss: 112.67623288929462\n",
            "Epoch 29/50, Loss: 112.06653132289648\n",
            "Epoch 30/50, Loss: 108.09835635870695\n",
            "Epoch 31/50, Loss: 107.91248666495085\n",
            "Epoch 32/50, Loss: 103.83903296664357\n",
            "Epoch 33/50, Loss: 102.3993116542697\n",
            "Epoch 34/50, Loss: 100.79486930370331\n",
            "Epoch 35/50, Loss: 98.0325181260705\n",
            "Epoch 36/50, Loss: 95.63151026144624\n",
            "Epoch 37/50, Loss: 94.16126674413681\n",
            "Epoch 38/50, Loss: 92.07266606017947\n",
            "Epoch 39/50, Loss: 91.71733235567808\n",
            "Epoch 40/50, Loss: 89.0015177205205\n",
            "Epoch 41/50, Loss: 83.85680890642107\n",
            "Epoch 42/50, Loss: 82.78544940054417\n",
            "Epoch 43/50, Loss: 83.21741110831499\n",
            "Epoch 44/50, Loss: 81.17129550129175\n",
            "Epoch 45/50, Loss: 80.66633601486683\n",
            "Epoch 46/50, Loss: 81.29912203922868\n",
            "Epoch 47/50, Loss: 80.95468677207828\n",
            "Epoch 48/50, Loss: 81.43710922822356\n",
            "Epoch 49/50, Loss: 80.30242469906807\n",
            "Epoch 50/50, Loss: 79.96395723614842\n"
          ]
        }
      ]
    },
    {
      "cell_type": "code",
      "source": [
        "test()"
      ],
      "metadata": {
        "colab": {
          "base_uri": "https://localhost:8080/"
        },
        "id": "W8s5ALFUS-u6",
        "outputId": "3acabcf5-9a1b-4946-c91c-31eceb7d2a3a"
      },
      "execution_count": 16,
      "outputs": [
        {
          "output_type": "stream",
          "name": "stdout",
          "text": [
            "Correct: 8625\n",
            "Total: 10000\n",
            "Accuracy: 86.25%\n"
          ]
        }
      ]
    }
  ]
}